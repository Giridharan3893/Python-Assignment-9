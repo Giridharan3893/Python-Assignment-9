{
 "cells": [
  {
   "cell_type": "code",
   "execution_count": 5,
   "id": "5aba2e0a",
   "metadata": {},
   "outputs": [
    {
     "name": "stdout",
     "output_type": "stream",
     "text": [
      "The original string is : East or West RCB is Best\n",
      "String after multiple replace : East or West k k k\n"
     ]
    }
   ],
   "source": [
    "## Answer 1:\n",
    "\n",
    "test_str = 'East or West RCB is Best'\n",
    "\n",
    "print(\"The original string is : \" + str(test_str))\n",
    "\n",
    "word_list = [\"Best\", 'RCB', 'is']\n",
    "\n",
    "repl_wrd = 'k'\n",
    "\n",
    "res = ' '.join([repl_wrd if idx in word_list else idx for idx in test_str.split()])\n",
    "\n",
    "print(\"String after multiple replace : \" + str(res)) "
   ]
  },
  {
   "cell_type": "code",
   "execution_count": 10,
   "id": "269a12dc",
   "metadata": {},
   "outputs": [
    {
     "name": "stdout",
     "output_type": "stream",
     "text": [
      "ABC\n",
      "ACB\n",
      "BAC\n",
      "BCA\n",
      "CAB\n",
      "CBA\n"
     ]
    }
   ],
   "source": [
    "## Answer 2:\n",
    "\n",
    "from itertools import permutations\n",
    "  \n",
    "def allPermutations(str):    \n",
    "     permList = permutations(str)  \n",
    "     \n",
    "     for perm in list(permList):\n",
    "         print (''.join(perm))\n",
    "        \n",
    "# Driver program\n",
    "if __name__ == \"__main__\":\n",
    "    str = 'ABC'\n",
    "    allPermutations(str)"
   ]
  },
  {
   "cell_type": "code",
   "execution_count": 12,
   "id": "5ade545c",
   "metadata": {},
   "outputs": [
    {
     "name": "stdout",
     "output_type": "stream",
     "text": [
      "Urls:  ['https://www.linkedin.com/in/giridharan-panneerselvam-97131a50', 'https://https://www.linkedin.com/signup']\n"
     ]
    }
   ],
   "source": [
    "## Answer 3:\n",
    "\n",
    "import re\n",
    "  \n",
    "def Find(string):\n",
    "  \n",
    "    regex = r\"(?i)\\b((?:https?://|www\\d{0,3}[.]|[a-z0-9.\\-]+[.][a-z]{2,4}/)(?:[^\\s()<>]+|\\(([^\\s()<>]+|(\\([^\\s()<>]+\\)))*\\))+(?:\\(([^\\s()<>]+|(\\([^\\s()<>]+\\)))*\\)|[^\\s`!()\\[\\]{};:'\\\".,<>?«»“”‘’]))\"\n",
    "    url = re.findall(regex,string)      \n",
    "    return [x[0] for x in url]\n",
    "string = 'My Profile: https://www.linkedin.com/in/giridharan-panneerselvam-97131a50 in the portal of https://https://www.linkedin.com/signup'\n",
    "print(\"Urls: \", Find(string))"
   ]
  },
  {
   "cell_type": "code",
   "execution_count": 13,
   "id": "e5b30e62",
   "metadata": {},
   "outputs": [
    {
     "name": "stdout",
     "output_type": "stream",
     "text": [
      "120\n"
     ]
    }
   ],
   "source": [
    "## Answer 4:\n",
    "\n",
    "def exec_code():\n",
    "    LOC = \"\"\"\n",
    "def factorial(num):\n",
    "    fact=1\n",
    "    for i in range(1,num+1):\n",
    "        fact = fact*i\n",
    "    return fact\n",
    "print(factorial(5))\n",
    "\"\"\"\n",
    "    exec(LOC)\n",
    "\n",
    "exec_code()"
   ]
  },
  {
   "cell_type": "code",
   "execution_count": 14,
   "id": "17d7876c",
   "metadata": {},
   "outputs": [
    {
     "name": "stdout",
     "output_type": "stream",
     "text": [
      "Left Rotation :  tforTatTi\n",
      "Right Rotation :  atTitforT\n"
     ]
    }
   ],
   "source": [
    "## Answer 5:\n",
    "\n",
    "def rotate(input,d): \n",
    "\n",
    "    Lfirst = input[0 : d] \n",
    "    Lsecond = input[d :] \n",
    "    Rfirst = input[0 : len(input)-d] \n",
    "    Rsecond = input[len(input)-d : ] \n",
    "\n",
    "    print (\"Left Rotation : \", (Lsecond + Lfirst) )\n",
    "    print (\"Right Rotation : \", (Rsecond + Rfirst)) \n",
    "  \n",
    "# Driver program \n",
    "if __name__ == \"__main__\": \n",
    "    input = 'TitforTat'\n",
    "    d=2\n",
    "    rotate(input,d) "
   ]
  },
  {
   "cell_type": "code",
   "execution_count": 15,
   "id": "bc28e499",
   "metadata": {},
   "outputs": [
    {
     "name": "stdout",
     "output_type": "stream",
     "text": [
      "true\n"
     ]
    }
   ],
   "source": [
    "## Answer 6:\n",
    "\n",
    "def checkEmpty(input, pattern): \n",
    "\n",
    "    if len(input)== 0 and len(pattern)== 0: \n",
    "         return 'true'\n",
    "    if len(pattern)== 0: \n",
    "         return 'true'  \n",
    "    while (len(input) != 0): \n",
    "        index = input.find(pattern) \n",
    "        if (index ==(-1)): \n",
    "          return 'false'\n",
    "        input = input[0:index] + input[index + len(pattern):]               \n",
    "    return 'true'\n",
    "if __name__ == \"__main__\": \n",
    "    input ='GEEGEEKSKS'\n",
    "    pattern ='GEEKS'\n",
    "    print (checkEmpty(input, pattern))"
   ]
  },
  {
   "cell_type": "code",
   "execution_count": 20,
   "id": "afad761f",
   "metadata": {},
   "outputs": [
    {
     "ename": "SyntaxError",
     "evalue": "invalid syntax (Temp/ipykernel_7184/844447736.py, line 11)",
     "output_type": "error",
     "traceback": [
      "\u001b[1;36m  File \u001b[1;32m\"C:\\Users\\ADMINI~1\\AppData\\Local\\Temp/ipykernel_7184/844447736.py\"\u001b[1;36m, line \u001b[1;32m11\u001b[0m\n\u001b[1;33m    print WC.keys()[j],\u001b[0m\n\u001b[1;37m          ^\u001b[0m\n\u001b[1;31mSyntaxError\u001b[0m\u001b[1;31m:\u001b[0m invalid syntax\n"
     ]
    }
   ],
   "source": [
    "## Answer 7:\n",
    "\n",
    "from collections import Counter\n",
    "  \n",
    "def find_dup_char(input):\n",
    "    WC = Counter(input)\n",
    "    j = -1\n",
    "    for i in WC.values():\n",
    "        j = j + 1\n",
    "        if( i > 1 ):\n",
    "            print WC.keys()[j],\n",
    "\n",
    "if __name__ == \"__main__\":\n",
    "    input = 'TitforTat'\n",
    "    find_dup_char(input)"
   ]
  },
  {
   "cell_type": "code",
   "execution_count": 22,
   "id": "e2f2bfd3",
   "metadata": {},
   "outputs": [
    {
     "name": "stdout",
     "output_type": "stream",
     "text": [
      "Titforabcd\n"
     ]
    }
   ],
   "source": [
    "## Answer 8:\n",
    "\n",
    "input_string = \"TitforTat\"\n",
    "s1 = \"Tat\"\n",
    "s2 = \"abcd\"\n",
    "input_string = input_string.replace(s1, s2)\n",
    "print(input_string)"
   ]
  },
  {
   "cell_type": "code",
   "execution_count": 28,
   "id": "a70195d8",
   "metadata": {},
   "outputs": [
    {
     "name": "stdout",
     "output_type": "stream",
     "text": [
      "The dictionary is : \n",
      "{'hi': [5, 3, 8, 0], 'there': [22, 51, 63, 77], 'how': [7, 0, 22], 'are': [12, 11, 45], 'you': [56, 31, 89, 90]}\n",
      "The unique values are : \n",
      "[0, 3, 5, 7, 8, 11, 12, 22, 31, 45, 51, 56, 63, 77, 89, 90]\n"
     ]
    }
   ],
   "source": [
    "## Answer 9:\n",
    "\n",
    "my_dict = {'hi' : [5,3,8, 0],\n",
    "   'there' : [22, 51, 63, 77],\n",
    "   'how' : [7, 0, 22],\n",
    "   'are' : [12, 11, 45],\n",
    "   'you' : [56, 31, 89, 90]}\n",
    "\n",
    "print(\"The dictionary is : \")\n",
    "print(my_dict)\n",
    "\n",
    "my_result = list(sorted({elem for val in my_dict.values() for elem in val}))\n",
    "\n",
    "print(\"The unique values are : \")\n",
    "print(my_result)"
   ]
  },
  {
   "cell_type": "code",
   "execution_count": 29,
   "id": "d71d9a3e",
   "metadata": {},
   "outputs": [
    {
     "name": "stdout",
     "output_type": "stream",
     "text": [
      "Sum : 600\n"
     ]
    }
   ],
   "source": [
    "## Answer 10:\n",
    "\n",
    "def returnSum(myDict):\n",
    " \n",
    "    list = []\n",
    "    for i in myDict:\n",
    "        list.append(myDict[i])\n",
    "    final = sum(list)\n",
    " \n",
    "    return final\n",
    " \n",
    " \n",
    "# Driver Function\n",
    "dict = {'a': 100, 'b': 200, 'c': 300}\n",
    "print(\"Sum :\", returnSum(dict))"
   ]
  }
 ],
 "metadata": {
  "kernelspec": {
   "display_name": "Python 3 (ipykernel)",
   "language": "python",
   "name": "python3"
  },
  "language_info": {
   "codemirror_mode": {
    "name": "ipython",
    "version": 3
   },
   "file_extension": ".py",
   "mimetype": "text/x-python",
   "name": "python",
   "nbconvert_exporter": "python",
   "pygments_lexer": "ipython3",
   "version": "3.9.7"
  }
 },
 "nbformat": 4,
 "nbformat_minor": 5
}
